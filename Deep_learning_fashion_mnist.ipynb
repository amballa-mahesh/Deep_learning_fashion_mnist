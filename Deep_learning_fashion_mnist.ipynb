{
  "nbformat": 4,
  "nbformat_minor": 0,
  "metadata": {
    "colab": {
      "provenance": [],
      "authorship_tag": "ABX9TyORYZlHJZoiVx5zT4WGH/bd",
      "include_colab_link": true
    },
    "kernelspec": {
      "name": "python3",
      "display_name": "Python 3"
    },
    "language_info": {
      "name": "python"
    },
    "accelerator": "GPU",
    "gpuClass": "standard"
  },
  "cells": [
    {
      "cell_type": "markdown",
      "metadata": {
        "id": "view-in-github",
        "colab_type": "text"
      },
      "source": [
        "<a href=\"https://colab.research.google.com/github/amballa-mahesh/Deep_learning_fashion_mnist/blob/main/Deep_learning_fashion_mnist.ipynb\" target=\"_parent\"><img src=\"https://colab.research.google.com/assets/colab-badge.svg\" alt=\"Open In Colab\"/></a>"
      ]
    },
    {
      "cell_type": "code",
      "execution_count": 1,
      "metadata": {
        "id": "XEKvuDlkcVmq"
      },
      "outputs": [],
      "source": [
        "import tensorflow"
      ]
    },
    {
      "cell_type": "code",
      "source": [
        "from tensorflow.keras.datasets import fashion_mnist\n",
        "import numpy as np"
      ],
      "metadata": {
        "id": "3Jd_BCO9cvTP"
      },
      "execution_count": 2,
      "outputs": []
    },
    {
      "cell_type": "code",
      "source": [
        "(x_train,y_train),(x_test,y_test) = fashion_mnist.load_data()"
      ],
      "metadata": {
        "colab": {
          "base_uri": "https://localhost:8080/"
        },
        "id": "xAMNCkyEczuk",
        "outputId": "554dd57a-50fe-4ea3-81c1-79c7f6985ef3"
      },
      "execution_count": 3,
      "outputs": [
        {
          "output_type": "stream",
          "name": "stdout",
          "text": [
            "Downloading data from https://storage.googleapis.com/tensorflow/tf-keras-datasets/train-labels-idx1-ubyte.gz\n",
            "29515/29515 [==============================] - 0s 1us/step\n",
            "Downloading data from https://storage.googleapis.com/tensorflow/tf-keras-datasets/train-images-idx3-ubyte.gz\n",
            "26421880/26421880 [==============================] - 2s 0us/step\n",
            "Downloading data from https://storage.googleapis.com/tensorflow/tf-keras-datasets/t10k-labels-idx1-ubyte.gz\n",
            "5148/5148 [==============================] - 0s 0us/step\n",
            "Downloading data from https://storage.googleapis.com/tensorflow/tf-keras-datasets/t10k-images-idx3-ubyte.gz\n",
            "4422102/4422102 [==============================] - 1s 0us/step\n"
          ]
        }
      ]
    },
    {
      "cell_type": "code",
      "source": [
        "dic = {0:'T-shirt/top',\n",
        "       1:'Trouser',\n",
        "       2:'Pullover',\n",
        "       3: 'Dress',\n",
        "       4:'Coat',\n",
        "       5:'Sandal',\n",
        "       6:'Shirt',\n",
        "       7:'Sneaker',\n",
        "       8:'Bag',\n",
        "       9:'Ankle boot'}"
      ],
      "metadata": {
        "id": "gZzQ9I9Cd4eO"
      },
      "execution_count": 4,
      "outputs": []
    },
    {
      "cell_type": "code",
      "source": [
        "import matplotlib.pyplot as plt"
      ],
      "metadata": {
        "id": "V_y2EVmlczxY"
      },
      "execution_count": 5,
      "outputs": []
    },
    {
      "cell_type": "code",
      "source": [
        "x_train.shape"
      ],
      "metadata": {
        "colab": {
          "base_uri": "https://localhost:8080/"
        },
        "id": "xEDEhvNTcz0O",
        "outputId": "98f97696-ee0a-4f06-d599-305eec539803"
      },
      "execution_count": 6,
      "outputs": [
        {
          "output_type": "execute_result",
          "data": {
            "text/plain": [
              "(60000, 28, 28)"
            ]
          },
          "metadata": {},
          "execution_count": 6
        }
      ]
    },
    {
      "cell_type": "code",
      "source": [
        "plt.figure(figsize = (3,3))\n",
        "plt.imshow(x_train[0])\n",
        "plt.show()\n",
        "print(dic[y_train[0]])"
      ],
      "metadata": {
        "colab": {
          "base_uri": "https://localhost:8080/",
          "height": 311
        },
        "id": "PeHWMDEMcz3d",
        "outputId": "776c5dd9-98a2-44e1-9751-7f73b30b4917"
      },
      "execution_count": 7,
      "outputs": [
        {
          "output_type": "display_data",
          "data": {
            "text/plain": [
              "<Figure size 300x300 with 1 Axes>"
            ],
            "image/png": "[encoded data removed]"
          },
          "metadata": {}
        },
        {
          "output_type": "stream",
          "name": "stdout",
          "text": [
            "Ankle boot\n"
          ]
        }
      ]
    },
    {
      "cell_type": "code",
      "source": [
        "x_train.shape,x_test.shape,y_train.shape,y_test.shape"
      ],
      "metadata": {
        "colab": {
          "base_uri": "https://localhost:8080/"
        },
        "id": "k9RrdeZ9eHp_",
        "outputId": "6c686f2c-74e5-478d-cbf4-cd7469ee0d7f"
      },
      "execution_count": 8,
      "outputs": [
        {
          "output_type": "execute_result",
          "data": {
            "text/plain": [
              "((60000, 28, 28), (10000, 28, 28), (60000,), (10000,))"
            ]
          },
          "metadata": {},
          "execution_count": 8
        }
      ]
    },
    {
      "cell_type": "code",
      "source": [
        "x_train = x_train.reshape(60000,28*28)\n",
        "x_test  = x_test.reshape(10000,28*28)\n",
        "x_train = x_train/255\n",
        "x_test  = x_test/255"
      ],
      "metadata": {
        "id": "tVnOZ3G5cz6B"
      },
      "execution_count": 9,
      "outputs": []
    },
    {
      "cell_type": "code",
      "source": [
        "x_train.shape,x_test.shape"
      ],
      "metadata": {
        "colab": {
          "base_uri": "https://localhost:8080/"
        },
        "id": "FjQF7i1FeplO",
        "outputId": "20bb7639-3f01-4c98-8fce-12d79c660319"
      },
      "execution_count": 10,
      "outputs": [
        {
          "output_type": "execute_result",
          "data": {
            "text/plain": [
              "((60000, 784), (10000, 784))"
            ]
          },
          "metadata": {},
          "execution_count": 10
        }
      ]
    },
    {
      "cell_type": "code",
      "source": [
        "y_train = tensorflow.keras.utils.to_categorical(y_train)\n",
        "y_test  = tensorflow.keras.utils.to_categorical(y_test)"
      ],
      "metadata": {
        "id": "5xu7DJsNcz8u"
      },
      "execution_count": 11,
      "outputs": []
    },
    {
      "cell_type": "code",
      "source": [
        "y_train.shape,y_test.shape"
      ],
      "metadata": {
        "colab": {
          "base_uri": "https://localhost:8080/"
        },
        "id": "U8AJ5rTrcz-f",
        "outputId": "0eb49353-2e13-487e-8119-2c3826665a50"
      },
      "execution_count": 12,
      "outputs": [
        {
          "output_type": "execute_result",
          "data": {
            "text/plain": [
              "((60000, 10), (10000, 10))"
            ]
          },
          "metadata": {},
          "execution_count": 12
        }
      ]
    },
    {
      "cell_type": "code",
      "source": [
        "from tensorflow.keras.models import Sequential\n",
        "from tensorflow.keras.layers import Dense,Dropout"
      ],
      "metadata": {
        "id": "VU7INBKWc0B8"
      },
      "execution_count": 13,
      "outputs": []
    },
    {
      "cell_type": "code",
      "source": [
        "model = Sequential()\n",
        "model.add(Dense(784, activation = 'leaky_relu',input_shape = [x_train.shape[1],]))\n",
        "\n",
        "model.add(Dense(20, activation = 'leaky_relu'))\n",
        "model.add(Dropout(rate= 0.2))\n",
        "\n",
        "model.add(Dense(15, activation = 'leaky_relu'))\n",
        "model.add(Dropout(rate= 0.2))\n",
        "\n",
        "model.add(Dense(10, activation = 'softmax'))\n"
      ],
      "metadata": {
        "id": "GICpah7bc0D1"
      },
      "execution_count": 14,
      "outputs": []
    },
    {
      "cell_type": "code",
      "source": [
        "model.compile(optimizer ='adam',\n",
        "              loss= 'categorical_crossentropy',\n",
        "              metrics = 'accuracy')"
      ],
      "metadata": {
        "id": "799V1W2Ee6ig"
      },
      "execution_count": 15,
      "outputs": []
    },
    {
      "cell_type": "code",
      "source": [
        "model.fit(x_train, y_train, epochs =50, validation_data = (x_test,y_test),batch_size = 64)"
      ],
      "metadata": {
        "colab": {
          "base_uri": "https://localhost:8080/"
        },
        "id": "gy5TKo5Se6lo",
        "outputId": "7bd98e6a-7d73-4de9-8068-ee4fc349b5d8"
      },
      "execution_count": 16,
      "outputs": [
        {
          "output_type": "stream",
          "name": "stdout",
          "text": [
            "Epoch 1/50\n",
            "938/938 [==============================] - 10s 5ms/step - loss: 0.7645 - accuracy: 0.7409 - val_loss: 0.4747 - val_accuracy: 0.8337\n",
            "Epoch 2/50\n",
            "938/938 [==============================] - 4s 4ms/step - loss: 0.5203 - accuracy: 0.8199 - val_loss: 0.4212 - val_accuracy: 0.8465\n",
            "Epoch 3/50\n",
            "938/938 [==============================] - 4s 4ms/step - loss: 0.4590 - accuracy: 0.8418 - val_loss: 0.4137 - val_accuracy: 0.8512\n",
            "Epoch 4/50\n",
            "938/938 [==============================] - 4s 5ms/step - loss: 0.4310 - accuracy: 0.8525 - val_loss: 0.4277 - val_accuracy: 0.8455\n",
            "Epoch 5/50\n",
            "938/938 [==============================] - 4s 4ms/step - loss: 0.4089 - accuracy: 0.8575 - val_loss: 0.3834 - val_accuracy: 0.8635\n",
            "Epoch 6/50\n",
            "938/938 [==============================] - 4s 4ms/step - loss: 0.3887 - accuracy: 0.8637 - val_loss: 0.3815 - val_accuracy: 0.8622\n",
            "Epoch 7/50\n",
            "938/938 [==============================] - 4s 4ms/step - loss: 0.3823 - accuracy: 0.8670 - val_loss: 0.4056 - val_accuracy: 0.8614\n",
            "Epoch 8/50\n",
            "938/938 [==============================] - 4s 4ms/step - loss: 0.3646 - accuracy: 0.8738 - val_loss: 0.3821 - val_accuracy: 0.8663\n",
            "Epoch 9/50\n",
            "938/938 [==============================] - 4s 4ms/step - loss: 0.3545 - accuracy: 0.8740 - val_loss: 0.3544 - val_accuracy: 0.8731\n",
            "Epoch 10/50\n",
            "938/938 [==============================] - 5s 5ms/step - loss: 0.3470 - accuracy: 0.8771 - val_loss: 0.3643 - val_accuracy: 0.8748\n",
            "Epoch 11/50\n",
            "938/938 [==============================] - 4s 4ms/step - loss: 0.3376 - accuracy: 0.8823 - val_loss: 0.3517 - val_accuracy: 0.8748\n",
            "Epoch 12/50\n",
            "938/938 [==============================] - 4s 4ms/step - loss: 0.3344 - accuracy: 0.8814 - val_loss: 0.3427 - val_accuracy: 0.8778\n",
            "Epoch 13/50\n",
            "938/938 [==============================] - 4s 5ms/step - loss: 0.3252 - accuracy: 0.8855 - val_loss: 0.3461 - val_accuracy: 0.8804\n",
            "Epoch 14/50\n",
            "938/938 [==============================] - 4s 4ms/step - loss: 0.3202 - accuracy: 0.8862 - val_loss: 0.3548 - val_accuracy: 0.8816\n",
            "Epoch 15/50\n",
            "938/938 [==============================] - 4s 4ms/step - loss: 0.3132 - accuracy: 0.8890 - val_loss: 0.3618 - val_accuracy: 0.8775\n",
            "Epoch 16/50\n",
            "938/938 [==============================] - 5s 5ms/step - loss: 0.3082 - accuracy: 0.8912 - val_loss: 0.3495 - val_accuracy: 0.8792\n",
            "Epoch 17/50\n",
            "938/938 [==============================] - 4s 4ms/step - loss: 0.3013 - accuracy: 0.8919 - val_loss: 0.3554 - val_accuracy: 0.8800\n",
            "Epoch 18/50\n",
            "938/938 [==============================] - 4s 4ms/step - loss: 0.2970 - accuracy: 0.8950 - val_loss: 0.3321 - val_accuracy: 0.8849\n",
            "Epoch 19/50\n",
            "938/938 [==============================] - 5s 5ms/step - loss: 0.2930 - accuracy: 0.8965 - val_loss: 0.3619 - val_accuracy: 0.8756\n",
            "Epoch 20/50\n",
            "938/938 [==============================] - 4s 4ms/step - loss: 0.2870 - accuracy: 0.8975 - val_loss: 0.3790 - val_accuracy: 0.8728\n",
            "Epoch 21/50\n",
            "938/938 [==============================] - 5s 5ms/step - loss: 0.2825 - accuracy: 0.8978 - val_loss: 0.3634 - val_accuracy: 0.8775\n",
            "Epoch 22/50\n",
            "938/938 [==============================] - 5s 5ms/step - loss: 0.2793 - accuracy: 0.8984 - val_loss: 0.3507 - val_accuracy: 0.8836\n",
            "Epoch 23/50\n",
            "938/938 [==============================] - 4s 4ms/step - loss: 0.2744 - accuracy: 0.9012 - val_loss: 0.3495 - val_accuracy: 0.8851\n",
            "Epoch 24/50\n",
            "938/938 [==============================] - 4s 4ms/step - loss: 0.2728 - accuracy: 0.9018 - val_loss: 0.3756 - val_accuracy: 0.8729\n",
            "Epoch 25/50\n",
            "938/938 [==============================] - 5s 5ms/step - loss: 0.2678 - accuracy: 0.9033 - val_loss: 0.3507 - val_accuracy: 0.8867\n",
            "Epoch 26/50\n",
            "938/938 [==============================] - 4s 4ms/step - loss: 0.2662 - accuracy: 0.9050 - val_loss: 0.3322 - val_accuracy: 0.8895\n",
            "Epoch 27/50\n",
            "938/938 [==============================] - 4s 4ms/step - loss: 0.2619 - accuracy: 0.9058 - val_loss: 0.3389 - val_accuracy: 0.8870\n",
            "Epoch 28/50\n",
            "938/938 [==============================] - 4s 4ms/step - loss: 0.2577 - accuracy: 0.9078 - val_loss: 0.3425 - val_accuracy: 0.8823\n",
            "Epoch 29/50\n",
            "938/938 [==============================] - 4s 4ms/step - loss: 0.2551 - accuracy: 0.9079 - val_loss: 0.3858 - val_accuracy: 0.8791\n",
            "Epoch 30/50\n",
            "938/938 [==============================] - 4s 4ms/step - loss: 0.2564 - accuracy: 0.9070 - val_loss: 0.3608 - val_accuracy: 0.8834\n",
            "Epoch 31/50\n",
            "938/938 [==============================] - 4s 5ms/step - loss: 0.2493 - accuracy: 0.9104 - val_loss: 0.3315 - val_accuracy: 0.8913\n",
            "Epoch 32/50\n",
            "938/938 [==============================] - 4s 4ms/step - loss: 0.2456 - accuracy: 0.9113 - val_loss: 0.3382 - val_accuracy: 0.8875\n",
            "Epoch 33/50\n",
            "938/938 [==============================] - 4s 4ms/step - loss: 0.2423 - accuracy: 0.9123 - val_loss: 0.3622 - val_accuracy: 0.8893\n",
            "Epoch 34/50\n",
            "938/938 [==============================] - 4s 4ms/step - loss: 0.2376 - accuracy: 0.9133 - val_loss: 0.3462 - val_accuracy: 0.8854\n",
            "Epoch 35/50\n",
            "938/938 [==============================] - 4s 4ms/step - loss: 0.2390 - accuracy: 0.9146 - val_loss: 0.3465 - val_accuracy: 0.8860\n",
            "Epoch 36/50\n",
            "938/938 [==============================] - 4s 4ms/step - loss: 0.2332 - accuracy: 0.9154 - val_loss: 0.3542 - val_accuracy: 0.8858\n",
            "Epoch 37/50\n",
            "938/938 [==============================] - 4s 4ms/step - loss: 0.2331 - accuracy: 0.9154 - val_loss: 0.3408 - val_accuracy: 0.8917\n",
            "Epoch 38/50\n",
            "938/938 [==============================] - 4s 5ms/step - loss: 0.2320 - accuracy: 0.9155 - val_loss: 0.3527 - val_accuracy: 0.8917\n",
            "Epoch 39/50\n",
            "938/938 [==============================] - 4s 4ms/step - loss: 0.2248 - accuracy: 0.9191 - val_loss: 0.3381 - val_accuracy: 0.8924\n",
            "Epoch 40/50\n",
            "938/938 [==============================] - 4s 4ms/step - loss: 0.2246 - accuracy: 0.9188 - val_loss: 0.3835 - val_accuracy: 0.8873\n",
            "Epoch 41/50\n",
            "938/938 [==============================] - 4s 5ms/step - loss: 0.2182 - accuracy: 0.9214 - val_loss: 0.3834 - val_accuracy: 0.8859\n",
            "Epoch 42/50\n",
            "938/938 [==============================] - 4s 4ms/step - loss: 0.2166 - accuracy: 0.9214 - val_loss: 0.3699 - val_accuracy: 0.8891\n",
            "Epoch 43/50\n",
            "938/938 [==============================] - 4s 4ms/step - loss: 0.2173 - accuracy: 0.9214 - val_loss: 0.3857 - val_accuracy: 0.8823\n",
            "Epoch 44/50\n",
            "938/938 [==============================] - 4s 5ms/step - loss: 0.2156 - accuracy: 0.9200 - val_loss: 0.3462 - val_accuracy: 0.8956\n",
            "Epoch 45/50\n",
            "938/938 [==============================] - 4s 4ms/step - loss: 0.2136 - accuracy: 0.9234 - val_loss: 0.4021 - val_accuracy: 0.8899\n",
            "Epoch 46/50\n",
            "938/938 [==============================] - 4s 4ms/step - loss: 0.2098 - accuracy: 0.9230 - val_loss: 0.3558 - val_accuracy: 0.8922\n",
            "Epoch 47/50\n",
            "938/938 [==============================] - 5s 5ms/step - loss: 0.2064 - accuracy: 0.9250 - val_loss: 0.4055 - val_accuracy: 0.8817\n",
            "Epoch 48/50\n",
            "938/938 [==============================] - 4s 4ms/step - loss: 0.2092 - accuracy: 0.9241 - val_loss: 0.4120 - val_accuracy: 0.8832\n",
            "Epoch 49/50\n",
            "938/938 [==============================] - 4s 4ms/step - loss: 0.2044 - accuracy: 0.9258 - val_loss: 0.3592 - val_accuracy: 0.8888\n",
            "Epoch 50/50\n",
            "938/938 [==============================] - 4s 5ms/step - loss: 0.2051 - accuracy: 0.9245 - val_loss: 0.3751 - val_accuracy: 0.8843\n"
          ]
        },
        {
          "output_type": "execute_result",
          "data": {
            "text/plain": [
              "<keras.callbacks.History at 0x7f53da08ff40>"
            ]
          },
          "metadata": {},
          "execution_count": 16
        }
      ]
    },
    {
      "cell_type": "code",
      "source": [
        "y_pred = model.predict(x_test).round()"
      ],
      "metadata": {
        "colab": {
          "base_uri": "https://localhost:8080/"
        },
        "id": "LTBwbFJlc0Gf",
        "outputId": "aaabdf0c-4440-4fda-e51a-6a4cd2e78c20"
      },
      "execution_count": 17,
      "outputs": [
        {
          "output_type": "stream",
          "name": "stdout",
          "text": [
            "313/313 [==============================] - 1s 2ms/step\n"
          ]
        }
      ]
    },
    {
      "cell_type": "code",
      "source": [
        "from sklearn.metrics import classification_report,accuracy_score,multilabel_confusion_matrix"
      ],
      "metadata": {
        "id": "Wgs4T0amiQtv"
      },
      "execution_count": 18,
      "outputs": []
    },
    {
      "cell_type": "code",
      "source": [
        "print(classification_report(y_test,y_pred))"
      ],
      "metadata": {
        "colab": {
          "base_uri": "https://localhost:8080/"
        },
        "id": "rv_Mlzl-iW4H",
        "outputId": "d7a2591c-c763-4219-9139-fcaed80fdeb1"
      },
      "execution_count": 19,
      "outputs": [
        {
          "output_type": "stream",
          "name": "stdout",
          "text": [
            "              precision    recall  f1-score   support\n",
            "\n",
            "           0       0.72      0.94      0.82      1000\n",
            "           1       0.99      0.98      0.99      1000\n",
            "           2       0.81      0.84      0.82      1000\n",
            "           3       0.92      0.88      0.90      1000\n",
            "           4       0.85      0.77      0.81      1000\n",
            "           5       0.98      0.96      0.97      1000\n",
            "           6       0.88      0.47      0.61      1000\n",
            "           7       0.97      0.93      0.95      1000\n",
            "           8       0.98      0.97      0.98      1000\n",
            "           9       0.93      0.98      0.95      1000\n",
            "\n",
            "   micro avg       0.90      0.87      0.88     10000\n",
            "   macro avg       0.90      0.87      0.88     10000\n",
            "weighted avg       0.90      0.87      0.88     10000\n",
            " samples avg       0.87      0.87      0.87     10000\n",
            "\n"
          ]
        },
        {
          "output_type": "stream",
          "name": "stderr",
          "text": [
            "/usr/local/lib/python3.10/dist-packages/sklearn/metrics/_classification.py:1344: UndefinedMetricWarning: Precision and F-score are ill-defined and being set to 0.0 in samples with no predicted labels. Use `zero_division` parameter to control this behavior.\n",
            "  _warn_prf(average, modifier, msg_start, len(result))\n"
          ]
        }
      ]
    },
    {
      "cell_type": "code",
      "source": [
        "print(accuracy_score(y_test,y_pred))"
      ],
      "metadata": {
        "colab": {
          "base_uri": "https://localhost:8080/"
        },
        "id": "EkiOpe2rjoev",
        "outputId": "d075fa05-0013-4605-8cfe-c524e85b32da"
      },
      "execution_count": 20,
      "outputs": [
        {
          "output_type": "stream",
          "name": "stdout",
          "text": [
            "0.8725\n"
          ]
        }
      ]
    },
    {
      "cell_type": "code",
      "source": [
        "l1 = list(dic.values())\n",
        "l1"
      ],
      "metadata": {
        "colab": {
          "base_uri": "https://localhost:8080/"
        },
        "id": "Y6NP7G3Dmkb2",
        "outputId": "0157f349-781d-4ed5-be90-8c1f62770326"
      },
      "execution_count": 23,
      "outputs": [
        {
          "output_type": "execute_result",
          "data": {
            "text/plain": [
              "['T-shirt/top',\n",
              " 'Trouser',\n",
              " 'Pullover',\n",
              " 'Dress',\n",
              " 'Coat',\n",
              " 'Sandal',\n",
              " 'Shirt',\n",
              " 'Sneaker',\n",
              " 'Bag',\n",
              " 'Ankle boot']"
            ]
          },
          "metadata": {},
          "execution_count": 23
        }
      ]
    },
    {
      "cell_type": "code",
      "source": [
        "print(multilabel_confusion_matrix(y_test,y_pred))"
      ],
      "metadata": {
        "colab": {
          "base_uri": "https://localhost:8080/"
        },
        "id": "jg-tuj-6javT",
        "outputId": "2ade73fd-b656-4109-8f94-b7a2f7e1c02d"
      },
      "execution_count": 35,
      "outputs": [
        {
          "output_type": "stream",
          "name": "stdout",
          "text": [
            "[[[8640  360]\n",
            "  [  57  943]]\n",
            "\n",
            " [[8991    9]\n",
            "  [  20  980]]\n",
            "\n",
            " [[8805  195]\n",
            "  [ 164  836]]\n",
            "\n",
            " [[8926   74]\n",
            "  [ 122  878]]\n",
            "\n",
            " [[8860  140]\n",
            "  [ 228  772]]\n",
            "\n",
            " [[8977   23]\n",
            "  [  39  961]]\n",
            "\n",
            " [[8933   67]\n",
            "  [ 528  472]]\n",
            "\n",
            " [[8969   31]\n",
            "  [  69  931]]\n",
            "\n",
            " [[8977   23]\n",
            "  [  26  974]]\n",
            "\n",
            " [[8921   79]\n",
            "  [  22  978]]]\n"
          ]
        }
      ]
    },
    {
      "cell_type": "code",
      "source": [
        "for i in range (20,30):\n",
        "  plt.figure(figsize = (2,2))\n",
        "  plt.imshow(x_test[i].reshape(28,28))\n",
        "  plt.show()\n",
        "  print(dic[np.argmax(y_pred[i])],'\\n')"
      ],
      "metadata": {
        "colab": {
          "base_uri": "https://localhost:8080/",
          "height": 1000
        },
        "id": "QznbJGtcc0Lt",
        "outputId": "0b9fd8f3-b0a8-4936-c9a3-8236be3983c3"
      },
      "execution_count": 22,
      "outputs": [
        {
          "output_type": "display_data",
          "data": {
            "text/plain": [
              "<Figure size 200x200 with 1 Axes>"
            ],
            "image/png": "[encoded data removed]"
          },
          "metadata": {}
        },
        {
          "output_type": "stream",
          "name": "stdout",
          "text": [
            "Pullover \n",
            "\n"
          ]
        },
        {
          "output_type": "display_data",
          "data": {
            "text/plain": [
              "<Figure size 200x200 with 1 Axes>"
            ],
            "image/png": "[encoded data removed]"
          },
          "metadata": {}
        },
        {
          "output_type": "stream",
          "name": "stdout",
          "text": [
            "Sandal \n",
            "\n"
          ]
        },
        {
          "output_type": "display_data",
          "data": {
            "text/plain": [
              "<Figure size 200x200 with 1 Axes>"
            ],
            "image/png": "[encoded data removed]"
          },
          "metadata": {}
        },
        {
          "output_type": "stream",
          "name": "stdout",
          "text": [
            "Sneaker \n",
            "\n"
          ]
        },
        {
          "output_type": "display_data",
          "data": {
            "text/plain": [
              "<Figure size 200x200 with 1 Axes>"
            ],
            "image/png": "[encoded data removed]"
          },
          "metadata": {}
        },
        {
          "output_type": "stream",
          "name": "stdout",
          "text": [
            "Sandal \n",
            "\n"
          ]
        },
        {
          "output_type": "display_data",
          "data": {
            "text/plain": [
              "<Figure size 200x200 with 1 Axes>"
            ],
            "image/png": "[encoded data removed]"
          },
          "metadata": {}
        },
        {
          "output_type": "stream",
          "name": "stdout",
          "text": [
            "Trouser \n",
            "\n"
          ]
        },
        {
          "output_type": "display_data",
          "data": {
            "text/plain": [
              "<Figure size 200x200 with 1 Axes>"
            ],
            "image/png": "[encoded data removed]"
          },
          "metadata": {}
        },
        {
          "output_type": "stream",
          "name": "stdout",
          "text": [
            "Pullover \n",
            "\n"
          ]
        },
        {
          "output_type": "display_data",
          "data": {
            "text/plain": [
              "<Figure size 200x200 with 1 Axes>"
            ],
            "image/png": "[encoded data removed]"
          },
          "metadata": {}
        },
        {
          "output_type": "stream",
          "name": "stdout",
          "text": [
            "Shirt \n",
            "\n"
          ]
        },
        {
          "output_type": "display_data",
          "data": {
            "text/plain": [
              "<Figure size 200x200 with 1 Axes>"
            ],
            "image/png": "[encoded data removed]"
          },
          "metadata": {}
        },
        {
          "output_type": "stream",
          "name": "stdout",
          "text": [
            "T-shirt/top \n",
            "\n"
          ]
        },
        {
          "output_type": "display_data",
          "data": {
            "text/plain": [
              "<Figure size 200x200 with 1 Axes>"
            ],
            "image/png": "[encoded data removed]"
          },
          "metadata": {}
        },
        {
          "output_type": "stream",
          "name": "stdout",
          "text": [
            "Ankle boot \n",
            "\n"
          ]
        },
        {
          "output_type": "display_data",
          "data": {
            "text/plain": [
              "<Figure size 200x200 with 1 Axes>"
            ],
            "image/png": "[encoded data removed]"
          },
          "metadata": {}
        },
        {
          "output_type": "stream",
          "name": "stdout",
          "text": [
            "T-shirt/top \n",
            "\n"
          ]
        }
      ]
    }
  ]
}